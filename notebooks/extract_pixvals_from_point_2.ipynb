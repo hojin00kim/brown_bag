{
 "cells": [
  {
   "cell_type": "code",
   "execution_count": 19,
   "metadata": {},
   "outputs": [],
   "source": [
    "import affine\n",
    "import geospatial_tools as gstools\n",
    "import numpy as np\n",
    "import os\n",
    "import pandas as pd\n",
    "import rasterio\n",
    "\n",
    "from osgeo import gdal, gdal_array, osr\n",
    "from pyproj import Proj"
   ]
  },
  {
   "cell_type": "code",
   "execution_count": 20,
   "metadata": {},
   "outputs": [],
   "source": [
    "def convert_latlon_to_utm(utm_zone, coords):\n",
    "    \"\"\"\n",
    "    convert lat/lon to coordinates of specific utm zone\n",
    "    \n",
    "    coordinates should be in (lat, lon) format\n",
    "    \"\"\"\n",
    "    #coords = (41.6604518, -89.4559081)\n",
    "    p = Proj(proj='utm', ellps='WGS84', zone = utm_zone, south=False)\n",
    "\n",
    "    return p(coords[1], coords[0])"
   ]
  },
  {
   "cell_type": "code",
   "execution_count": 21,
   "metadata": {},
   "outputs": [],
   "source": [
    "def CreateGeoTiff(outRaster_name, array, geotransform, epsg):\n",
    "    \n",
    "    \"\"\"\n",
    "    write a geotiff output using an array\n",
    "    \n",
    "    Parameters\n",
    "    outRaster_name: string\n",
    "        output name \n",
    "    \n",
    "    array: nd array\n",
    "        an array that writes to a geotiff file\n",
    "        \n",
    "    geotransform: tuple\n",
    "        geotranform parameter\n",
    "        GeoTransform[0] /* top left x */\n",
    "        GeoTransform[1] /* w-e pixel resolution */\n",
    "        GeoTransform[2] /* 0 */\n",
    "        GeoTransform[3] /* top left y */\n",
    "        GeoTransform[4] /* 0 */\n",
    "        GeoTransform[5] /* n-s pixel resolution (negative value) */\n",
    "    \n",
    "    epsg: str\n",
    "        epsg id  \n",
    "    \n",
    "    return\n",
    "    \n",
    "    none: \n",
    "        write a geotiff file to a specified path\n",
    "    \"\"\"\n",
    "        \n",
    "    driver = gdal.GetDriverByName('GTiff')\n",
    "    rows, cols, band = array.shape\n",
    "    ds = driver.Create(outRaster, cols, rows, band, gdal.GDT_Float64)\n",
    "    ds.SetGeoTransform(geotransform)\n",
    "    \n",
    "    epsg = int(epsg.split(':')[1])\n",
    "    srs = osr.SpatialReference()            # establish encoding\n",
    "    srs.ImportFromEPSG(epsg)                # WGS84 lat/long\n",
    "    ds.SetProjection(srs.ExportToWkt())\n",
    "\n",
    "    array = np.moveaxis(array, -1, 0)\n",
    "\n",
    "    for i, image in enumerate(array, 1):\n",
    "        ds.GetRasterBand(i).WriteArray(image)\n",
    "    ds = None"
   ]
  },
  {
   "cell_type": "code",
   "execution_count": 22,
   "metadata": {},
   "outputs": [],
   "source": [
    "def convert_mapcoord_to_pixelcoord(coords, input_raster):\n",
    "    \n",
    "    \"\"\"\n",
    "    Return floating-point value that corresponds to given point.\n",
    "    \n",
    "    Parameters\n",
    "    coords: tuple\n",
    "        (lat, lon) or (northing, easting) format\n",
    "    \n",
    "    input_raster: str\n",
    "        path to a raster file\n",
    "    \n",
    "    return\n",
    "    \n",
    "    pixel_coord: tuple\n",
    "        pixel coordinate that corresponds to row, column format\n",
    "    \"\"\"\n",
    "    \n",
    "    x, y = float(coords[0]), float(coords[1])\n",
    "    \n",
    "    input_ds = gdal.Open(input_raster, gdal.GA_ReadOnly)\n",
    "    \n",
    "    forward_transform =  \\\n",
    "        affine.Affine.from_gdal(*input_ds.GetGeoTransform())\n",
    "    \n",
    "    reverse_transform = ~forward_transform\n",
    "    px, py = reverse_transform * (x, y)\n",
    "    \n",
    "    # if pixel location needs to be ajusted to center of a pixel, change the number (px + 0.5)\n",
    "    px, py = int(px + 0.0), int(py + 0.0)\n",
    "    pixel_coords = py, px # row and column format\n",
    "\n",
    "    return pixel_coords"
   ]
  },
  {
   "cell_type": "code",
   "execution_count": 23,
   "metadata": {},
   "outputs": [],
   "source": [
    "def retrieve_pixel_value_from_array(pixel_coords, input_array, window_size):\n",
    "    \n",
    "    \"\"\"\n",
    "    Return floating-point value that corresponds to given point.\n",
    "    \n",
    "    Parameters\n",
    "    pixel_coords: tuple\n",
    "        pixel coordinates in row and column order\n",
    "    \n",
    "    input_array: str\n",
    "        path to a single band raster file \n",
    "    \n",
    "    window_size : int\n",
    "    \n",
    "    return\n",
    "    \n",
    "    data_array: list\n",
    "        pixel value that corresponds to lat/lon\n",
    "    \"\"\"\n",
    "    \n",
    "    py = pixel_coords[0]\n",
    "    px = pixel_coords[1]\n",
    "    \n",
    "    data_array = input_array\n",
    "    \n",
    "    if window_size == 1:\n",
    "        pix_val = round(data_array[py, px], 4)\n",
    "        \n",
    "    elif window_size % 2 != 0:\n",
    "        interval = int((window_size - 1) / 2)\n",
    "        values = data_array[(py - interval):(py + (interval+1)), (px - interval):(px + (interval+1))]\n",
    "        pix_val = round(values.mean(), 4)\n",
    "        \n",
    "    elif window_size % 2 == 0:\n",
    "        print ('window size must be an odd number')\n",
    "        \n",
    "    else:\n",
    "        print ('point is located out of range')\n",
    "    \n",
    "    return pix_val"
   ]
  },
  {
   "cell_type": "code",
   "execution_count": 24,
   "metadata": {},
   "outputs": [],
   "source": [
    "def retrieve_pixel_values_from_raster(coords, input_raster, window_size):\n",
    "    \n",
    "    \"\"\"\n",
    "    extract pixel values from image\n",
    "\n",
    "    Parameters:\n",
    "    ----------\n",
    "    coords : tuple\n",
    "        lat/lon or easting/northing coords\n",
    "    input_raster : string\n",
    "        absolute path \n",
    "    window size : int\n",
    "         a three dimentional array with TOA values of the red band of an image\n",
    "    \n",
    "    Returns:\n",
    "    ------\n",
    "    pix_vals : list\n",
    "      list of pixel values for all bands\n",
    "    \"\"\"\n",
    "        \n",
    "    input_ds = gdal.Open(input_raster, gdal.GA_ReadOnly)\n",
    "    \n",
    "    pixel_coords = convert_mapcoord_to_pixelcoord(coords, input_raster)\n",
    "    \n",
    "    pix_vals = []\n",
    "    for band in range(input_ds.RasterCount):\n",
    "        band += 1\n",
    "        src_array = np.array(input_ds.GetRasterBand(band).ReadAsArray()).astype(np.float64)\n",
    "        value = retrieve_pixel_value_from_array(pixel_coords, src_array, window_size)\n",
    "        pix_vals.append(value)\n",
    "        \n",
    "    return pix_vals"
   ]
  },
  {
   "cell_type": "code",
   "execution_count": 25,
   "metadata": {},
   "outputs": [],
   "source": [
    "# load input csv file into a dataframe\n",
    "data_dir = '/data'"
   ]
  },
  {
   "cell_type": "code",
   "execution_count": 26,
   "metadata": {},
   "outputs": [],
   "source": [
    "band_list_pixel = [\"b1\" , \"b2\", \"b3\", \"b4\", \"b5\", \"b6\", \"b7\",\n",
    "             \"b8\", \"b8a\", \"b9\", \"b10\", \"b11\", \"b12\"]"
   ]
  },
  {
   "cell_type": "code",
   "execution_count": 27,
   "metadata": {},
   "outputs": [],
   "source": [
    "s2_path = os.path.join(data_dir, 'sample_s2.tif')\n",
    "tsavi_path = os.path.join(data_dir, 'sample_tsavi.tif')"
   ]
  },
  {
   "cell_type": "markdown",
   "metadata": {},
   "source": [
    "### use case: extract pixel values using lat/lon"
   ]
  },
  {
   "cell_type": "code",
   "execution_count": 28,
   "metadata": {},
   "outputs": [],
   "source": [
    "lat, lon = 39.22174, -87.80272"
   ]
  },
  {
   "cell_type": "code",
   "execution_count": 29,
   "metadata": {},
   "outputs": [],
   "source": [
    "coords = (lat, lon)"
   ]
  },
  {
   "cell_type": "code",
   "execution_count": 30,
   "metadata": {},
   "outputs": [
    {
     "data": {
      "text/plain": [
       "(16, 'N')"
      ]
     },
     "execution_count": 30,
     "metadata": {},
     "output_type": "execute_result"
    }
   ],
   "source": [
    "utm_zone = gstools.get_utm_zone(lat, lon)\n",
    "utm_zone"
   ]
  },
  {
   "cell_type": "code",
   "execution_count": 31,
   "metadata": {},
   "outputs": [
    {
     "data": {
      "text/plain": [
       "(430708.0839357439, 4341690.715349512)"
      ]
     },
     "execution_count": 31,
     "metadata": {},
     "output_type": "execute_result"
    }
   ],
   "source": [
    "# convert lat/lon coordinates to utm\n",
    "coords_utm = convert_latlon_to_utm(utm_zone[0], coords)\n",
    "coords_utm"
   ]
  },
  {
   "cell_type": "markdown",
   "metadata": {},
   "source": [
    "#### multi-bands (sentinel2)"
   ]
  },
  {
   "cell_type": "code",
   "execution_count": 32,
   "metadata": {},
   "outputs": [],
   "source": [
    "# obtain crs (UTM zone if it is projected) from the firat image of a list\n",
    "with rasterio.open(s2_path) as src:\n",
    "\n",
    "    # extract pixel values from point location\n",
    "    pixel_values = retrieve_pixel_values_from_raster(coords_utm, s2_path, 1)"
   ]
  },
  {
   "cell_type": "code",
   "execution_count": 33,
   "metadata": {},
   "outputs": [
    {
     "data": {
      "text/plain": [
       "[1175.0,\n",
       " 1204.0,\n",
       " 1195.0,\n",
       " 1159.0,\n",
       " 1343.0,\n",
       " 2217.0,\n",
       " 2630.0,\n",
       " 2407.0,\n",
       " 2863.0,\n",
       " 465.0,\n",
       " 10.0,\n",
       " 2217.0,\n",
       " 1344.0]"
      ]
     },
     "execution_count": 33,
     "metadata": {},
     "output_type": "execute_result"
    }
   ],
   "source": [
    "pixel_values"
   ]
  },
  {
   "cell_type": "markdown",
   "metadata": {},
   "source": [
    "### if you want pixel values oupput to a dataframe\n",
    "#### pix_dict = dict(zip(band_list_pixel, pixel_values))\n",
    "#### df_pix = pd.DataFrame([pix_dict], columns=pix_dict.keys())"
   ]
  },
  {
   "cell_type": "code",
   "execution_count": 34,
   "metadata": {},
   "outputs": [
    {
     "data": {
      "text/html": [
       "<div>\n",
       "<style scoped>\n",
       "    .dataframe tbody tr th:only-of-type {\n",
       "        vertical-align: middle;\n",
       "    }\n",
       "\n",
       "    .dataframe tbody tr th {\n",
       "        vertical-align: top;\n",
       "    }\n",
       "\n",
       "    .dataframe thead th {\n",
       "        text-align: right;\n",
       "    }\n",
       "</style>\n",
       "<table border=\"1\" class=\"dataframe\">\n",
       "  <thead>\n",
       "    <tr style=\"text-align: right;\">\n",
       "      <th></th>\n",
       "      <th>b1</th>\n",
       "      <th>b2</th>\n",
       "      <th>b3</th>\n",
       "      <th>b4</th>\n",
       "      <th>b5</th>\n",
       "      <th>b6</th>\n",
       "      <th>b7</th>\n",
       "      <th>b8</th>\n",
       "      <th>b8a</th>\n",
       "      <th>b9</th>\n",
       "      <th>b10</th>\n",
       "      <th>b11</th>\n",
       "      <th>b12</th>\n",
       "    </tr>\n",
       "  </thead>\n",
       "  <tbody>\n",
       "    <tr>\n",
       "      <th>0</th>\n",
       "      <td>1175.0</td>\n",
       "      <td>1204.0</td>\n",
       "      <td>1195.0</td>\n",
       "      <td>1159.0</td>\n",
       "      <td>1343.0</td>\n",
       "      <td>2217.0</td>\n",
       "      <td>2630.0</td>\n",
       "      <td>2407.0</td>\n",
       "      <td>2863.0</td>\n",
       "      <td>465.0</td>\n",
       "      <td>10.0</td>\n",
       "      <td>2217.0</td>\n",
       "      <td>1344.0</td>\n",
       "    </tr>\n",
       "  </tbody>\n",
       "</table>\n",
       "</div>"
      ],
      "text/plain": [
       "       b1      b2      b3      b4      b5      b6      b7      b8     b8a  \\\n",
       "0  1175.0  1204.0  1195.0  1159.0  1343.0  2217.0  2630.0  2407.0  2863.0   \n",
       "\n",
       "      b9   b10     b11     b12  \n",
       "0  465.0  10.0  2217.0  1344.0  "
      ]
     },
     "execution_count": 34,
     "metadata": {},
     "output_type": "execute_result"
    }
   ],
   "source": [
    "pix_dict = dict(zip(band_list_pixel, pixel_values))\n",
    "df_pix = pd.DataFrame([pix_dict], columns=pix_dict.keys())\n",
    "df_pix"
   ]
  },
  {
   "cell_type": "markdown",
   "metadata": {},
   "source": [
    "### if you compute index layer on the fly, use \"retrieve_pixel_value_from_array\" function\n",
    "#### ndvi_p = retrieve_pixel_value_from_array(pixel_coords, ndvi, 3)"
   ]
  },
  {
   "cell_type": "markdown",
   "metadata": {},
   "source": [
    "#### single band"
   ]
  },
  {
   "cell_type": "code",
   "execution_count": 35,
   "metadata": {},
   "outputs": [],
   "source": [
    "# obtain crs (UTM zone if it is projected) from the firat image of a list\n",
    "with rasterio.open(tsavi_path) as src:\n",
    "\n",
    "    # extract pixel values from point location\n",
    "    pixel_value = retrieve_pixel_values_from_raster(coords_utm, tsavi_path, 1)"
   ]
  },
  {
   "cell_type": "code",
   "execution_count": 36,
   "metadata": {},
   "outputs": [
    {
     "data": {
      "text/plain": [
       "[0.3013]"
      ]
     },
     "execution_count": 36,
     "metadata": {},
     "output_type": "execute_result"
    }
   ],
   "source": [
    "pixel_value"
   ]
  },
  {
   "cell_type": "code",
   "execution_count": null,
   "metadata": {},
   "outputs": [],
   "source": []
  }
 ],
 "metadata": {
  "kernelspec": {
   "display_name": "geospatial",
   "language": "python",
   "name": "geospatial"
  },
  "language_info": {
   "codemirror_mode": {
    "name": "ipython",
    "version": 3
   },
   "file_extension": ".py",
   "mimetype": "text/x-python",
   "name": "python",
   "nbconvert_exporter": "python",
   "pygments_lexer": "ipython3",
   "version": "3.7.7"
  }
 },
 "nbformat": 4,
 "nbformat_minor": 4
}
