{
 "cells": [
  {
   "cell_type": "code",
   "execution_count": 56,
   "metadata": {},
   "outputs": [],
   "source": [
    "import glob, os, shutil, subprocess, sys\n",
    "import matplotlib.pyplot as plt\n",
    "import numpy as np\n",
    "import rasterio\n",
    "import geospatial_tools as gst\n",
    "import time\n",
    "\n",
    "from osgeo import gdal, gdal_array, gdalconst, ogr, osr\n",
    "from scipy import interpolate"
   ]
  },
  {
   "cell_type": "code",
   "execution_count": 57,
   "metadata": {},
   "outputs": [],
   "source": [
    "def load_band(infile_path):\n",
    "    \"\"\"\n",
    "    This is a function to load a geofiff file to extract meta information\n",
    "        and convert to a numpy array\n",
    "        \n",
    "    Parameters\n",
    "      infile_path : string\n",
    "        absolute input file path\n",
    "      band : int\n",
    "        integer for the band number to ingest (GDAL number scheme; base 1)\n",
    "        \n",
    "    Returns\n",
    "      cols : int\n",
    "        number of columns in the raster\n",
    "      rows : int\n",
    "        number of rows in the raster\n",
    "      geoT : tuple\n",
    "        raster geotransform\n",
    "      proJ : str\n",
    "        raster projection coeffieients (PROJCS[*])\n",
    "      pixelWidth : float\n",
    "        sixe of raster pixels in horizontal direction\n",
    "      pixelHeight : float\n",
    "        size of raster pixels in vertical direction\n",
    "      input_array : numpy.ndarray\n",
    "        two-dimensional array of the band values from the raster\n",
    "      input_ds : osgeo.gdal.Dataset\n",
    "        the full GDAL dataset object\n",
    "    \"\"\"\n",
    "    #open input image\n",
    "    input_ds = gdal.Open(infile_path, gdal.GA_ReadOnly)\n",
    "    if input_ds is None:\n",
    "        print (\"Could not open \" + infile_path)\n",
    "        sys.exit(1)\n",
    "    input_array = input_ds.GetRasterBand(1).ReadAsArray()\n",
    "    # extract geofiff meta and spatial referenceinformation\n",
    "    cols = input_ds.RasterXSize\n",
    "    rows = input_ds.RasterYSize\n",
    "    geoT = input_ds.GetGeoTransform()\n",
    "    proJ = input_ds.GetProjection()\n",
    "    srs = osr.SpatialReference(wkt = proJ)\n",
    "    pixelWidth = geoT[1]\n",
    "    pixelHeight = geoT[5]\n",
    "    #gsd = ground_gsd(geoT)\n",
    "    \n",
    "    return cols, rows, geoT, proJ, pixelWidth, pixelHeight, input_array, input_ds"
   ]
  },
  {
   "cell_type": "code",
   "execution_count": 58,
   "metadata": {},
   "outputs": [],
   "source": [
    "def obtain_extent(geoT, cols, rows):\n",
    "    \n",
    "    ''' \n",
    "    Parameters:\n",
    "        geotransform: tuple\n",
    "        cols:   int\n",
    "        rows:   int\n",
    "        \n",
    "    Returns: list\n",
    "        corner coordinates from a geotransform\n",
    "    '''\n",
    "    \n",
    "    ext=[]\n",
    "    xarr=[0, cols]\n",
    "    yarr=[0, rows]\n",
    "\n",
    "    for px in xarr:\n",
    "        for py in yarr:\n",
    "            x = geoT[0] + (px * geoT[1]) + (py * geoT[2])\n",
    "            y = geoT[3] + (px * geoT[4]) + (py * geoT[5])\n",
    "            ext.append([x, y])\n",
    "            #print x, y\n",
    "        yarr.reverse()\n",
    "    return ext"
   ]
  },
  {
   "cell_type": "code",
   "execution_count": 59,
   "metadata": {},
   "outputs": [],
   "source": [
    "def reproject_raster_gdalwarp(infile_path, outfile_path, s_epsg, t_epsg, resolution):\n",
    "    \"\"\"\n",
    "    resample raster to a fine resolution (10m)\n",
    "    \n",
    "    Parameters:\n",
    "    \n",
    "        input_shp: string\n",
    "            path to a shapefile\n",
    "        input_raster: string\n",
    "            path to a input raster file\n",
    "    \n",
    "    Returns: None\n",
    "        output_raster: \n",
    "    \"\"\"\n",
    "    cmd = \"gdalwarp \" + \\\n",
    "          \"-of GTiff \" + \\\n",
    "          \"-tr \" + resolution + ' ' + resolution + ' ' + \\\n",
    "          \"-s_srs EPSG:\" + s_epsg + ' ' + \\\n",
    "          \"-t_srs EPSG:\" + t_epsg + ' ' + \\\n",
    "          infile_path + ' ' + \\\n",
    "          outfile_path\n",
    "    subprocess.check_call(cmd, shell=True)"
   ]
  },
  {
   "cell_type": "markdown",
   "metadata": {},
   "source": [
    "### define some parameters for single image processing"
   ]
  },
  {
   "cell_type": "code",
   "execution_count": 60,
   "metadata": {},
   "outputs": [],
   "source": [
    "data_dir = '/data'"
   ]
  },
  {
   "cell_type": "code",
   "execution_count": 61,
   "metadata": {},
   "outputs": [],
   "source": [
    "infile = os.path.join(data_dir, 's1_sample_wgs84.tif')"
   ]
  },
  {
   "cell_type": "code",
   "execution_count": 62,
   "metadata": {},
   "outputs": [
    {
     "data": {
      "text/plain": [
       "'/Users/hojin.kim/Projects/geo-tools/brown-bag/sample_data/s1_sample_wgs84.tif'"
      ]
     },
     "execution_count": 62,
     "metadata": {},
     "output_type": "execute_result"
    }
   ],
   "source": [
    "infile"
   ]
  },
  {
   "cell_type": "markdown",
   "metadata": {},
   "source": [
    "#### define image out dir"
   ]
  },
  {
   "cell_type": "code",
   "execution_count": 65,
   "metadata": {},
   "outputs": [
    {
     "name": "stdout",
     "output_type": "stream",
     "text": [
      "/Users/hojin.kim/Projects/geo-tools/brown-bag/sample_data/s1_sample_wgs84.tif\n"
     ]
    }
   ],
   "source": [
    "print (infile)\n",
    "# load a raster and obtain some parameters\n",
    "cols, rows, geoT = load_band(infile)[:3]\n",
    "\n",
    "# obtain extent\n",
    "ext = obtain_extent(geoT, cols, rows)\n",
    "\n",
    "# obtain lat, lon of upper left corner\n",
    "lat, lon = ext[0][1], ext[0][0]\n",
    "\n",
    "# obtain utm zone and epsg id of the target \n",
    "s_epsg = '4326'\n",
    "utmzone, is_north = gst.get_utm_zone(lat, lon)\n",
    "\n",
    "if is_north == 'N':\n",
    "    t_epsg = '326' + str(utmzone)\n",
    "elif is_north == 'S':\n",
    "    t_epsg = '327' + str(utmzone)\n",
    "else:\n",
    "    print ('No corresponding UTM projection is exists')\n",
    "\n",
    "resolution = '20'\n",
    "\n",
    " # define output name and path\n",
    "out_name = os.path.basename(infile).split('.')[0] + '_utm.tif'\n",
    "\n",
    "out_raster_path = os.path.join(data_dir, out_name)\n",
    "\n",
    "if not os.path.exists(out_raster_path):\n",
    "\n",
    "    # run reprojection\n",
    "    reproject_raster_gdalwarp(infile, \n",
    "                          out_raster_path,\n",
    "                          s_epsg,\n",
    "                          t_epsg,\n",
    "                          resolution)\n"
   ]
  },
  {
   "cell_type": "code",
   "execution_count": null,
   "metadata": {},
   "outputs": [],
   "source": []
  },
  {
   "cell_type": "code",
   "execution_count": null,
   "metadata": {},
   "outputs": [],
   "source": []
  }
 ],
 "metadata": {
  "kernelspec": {
   "display_name": "geospatial",
   "language": "python",
   "name": "geospatial"
  },
  "language_info": {
   "codemirror_mode": {
    "name": "ipython",
    "version": 3
   },
   "file_extension": ".py",
   "mimetype": "text/x-python",
   "name": "python",
   "nbconvert_exporter": "python",
   "pygments_lexer": "ipython3",
   "version": "3.7.7"
  }
 },
 "nbformat": 4,
 "nbformat_minor": 4
}
