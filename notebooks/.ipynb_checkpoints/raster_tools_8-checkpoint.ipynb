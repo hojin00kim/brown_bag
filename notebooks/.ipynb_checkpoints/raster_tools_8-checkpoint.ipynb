{
 "cells": [
  {
   "cell_type": "code",
   "execution_count": null,
   "metadata": {},
   "outputs": [],
   "source": [
    "import numpy as np\n",
    "import os\n",
    "import rasterio\n",
    "import shutil\n",
    "import subprocess\n",
    "import sys\n",
    "import geospatial_tools as gst\n",
    "\n",
    "from pyproj import Proj, transform\n",
    "from osgeo import gdal, gdal_array, gdalconst, ogr, osr\n",
    "from scipy import interpolate"
   ]
  },
  {
   "cell_type": "code",
   "execution_count": null,
   "metadata": {},
   "outputs": [],
   "source": [
    "def load_band(infile_path):\n",
    "    \"\"\"\n",
    "    This is a function to load a geofiff file to extract meta information\n",
    "        and convert to a numpy array\n",
    "        \n",
    "    Args\n",
    "      infile_path : string\n",
    "        absolute input file path\n",
    "      band : int\n",
    "        integer for the band number to ingest (GDAL number scheme; base 1)\n",
    "        \n",
    "    Returns\n",
    "      cols : int\n",
    "        number of columns in the raster\n",
    "      rows : int\n",
    "        number of rows in the raster\n",
    "      geoT : tuple\n",
    "        raster geotransform\n",
    "      proJ : str\n",
    "        raster projection coeffieients (PROJCS[*])\n",
    "      pixelWidth : float\n",
    "        sixe of raster pixels in horizontal direction\n",
    "      pixelHeight : float\n",
    "        size of raster pixels in vertical direction\n",
    "      input_array : numpy.ndarray\n",
    "        two-dimensional array of the band values from the raster\n",
    "      input_ds : osgeo.gdal.Dataset\n",
    "        the full GDAL dataset object\n",
    "    \"\"\"\n",
    "    #open input image\n",
    "    input_ds = gdal.Open(infile_path, gdal.GA_ReadOnly)\n",
    "    if input_ds is None:\n",
    "        print (\"Could not open \" + infile_path)\n",
    "        sys.exit(1)\n",
    "    input_array = input_ds.GetRasterBand(1).ReadAsArray()\n",
    "    # extract geofiff meta and spatial referenceinformation\n",
    "    cols = input_ds.RasterXSize\n",
    "    rows = input_ds.RasterYSize\n",
    "    geoT = input_ds.GetGeoTransform()\n",
    "    proJ = input_ds.GetProjection()\n",
    "    srs = osr.SpatialReference(wkt = proJ)\n",
    "    pixelWidth = geoT[1]\n",
    "    pixelHeight = geoT[5]\n",
    "    #gsd = ground_gsd(geoT)\n",
    "    \n",
    "    return cols, rows, geoT, proJ, pixelWidth, pixelHeight, input_array, input_ds"
   ]
  },
  {
   "cell_type": "code",
   "execution_count": null,
   "metadata": {},
   "outputs": [],
   "source": [
    "def obtain_extent(geoT, cols, rows):\n",
    "    ''' Return list of corner coordinates from a geotransform\n",
    "\n",
    "        geotransform: tuple\n",
    "        cols:   int\n",
    "        rows:   int\n",
    "        \n",
    "        return:   coordinates of each corner\n",
    "    '''\n",
    "    \n",
    "    ext=[]\n",
    "    xarr=[0, cols]\n",
    "    yarr=[0, rows]\n",
    "\n",
    "    for px in xarr:\n",
    "        for py in yarr:\n",
    "            x = geoT[0] + (px * geoT[1]) + (py * geoT[2])\n",
    "            y = geoT[3] + (px * geoT[4]) + (py * geoT[5])\n",
    "            ext.append([x, y])\n",
    "            print (x, y)\n",
    "        yarr.reverse()\n",
    "    return ext"
   ]
  },
  {
   "cell_type": "code",
   "execution_count": null,
   "metadata": {},
   "outputs": [],
   "source": [
    "def reproject_coordinates(coords, src_srs, tgt_srs):\n",
    "    \n",
    "    ''' Reproject a list of x,y coordinates.\n",
    "\n",
    "        geom: tuple/list\n",
    "            param geom:    List of [[x,y],...[x,y]] coordinates\n",
    "        src_srs:  osr.SpatialReference\n",
    "            param src_srs: OSR SpatialReference object\n",
    "        type tgt_srs:  osr.SpatialReference\n",
    "            param tgt_srs: OSR SpatialReference object\n",
    "        rtype: tuple/list\n",
    "        \n",
    "        return: List of transformed [[x,y],...[x,y]] coordinates\n",
    "    '''\n",
    "    trans_coords=[]\n",
    "    transform = osr.CoordinateTransformation(src_srs, tgt_srs)\n",
    "    for x, y in coords:\n",
    "        x, y, z = transform.TransformPoint(x, y)\n",
    "        trans_coords.append([x, y])\n",
    "    return trans_coords"
   ]
  },
  {
   "cell_type": "code",
   "execution_count": null,
   "metadata": {},
   "outputs": [],
   "source": [
    "def latlon_to_meters(lat1, lon1, lat2, lon2):\n",
    "    \n",
    "    '''\n",
    "    measure distance between two points in meters\n",
    "    \n",
    "     http://en.wikipedia.org/wiki/Great-circle_distance\n",
    "     \n",
    "    Parameters\n",
    "     lat1, lon1, lat2, lon2: float\n",
    "      coordinates of two points\n",
    "    \n",
    "    Returns\n",
    "     distance in meter\n",
    "     }\n",
    "     '''\n",
    "\n",
    "    R = 6378.137\n",
    "    dLat = (lat2 - lat1) * np.pi / 180.0\n",
    "    dLon = (lon2 - lon1) * np.pi / 180.0\n",
    "    a = np.sin(dLat / 2) * np.sin(dLat / 2) + np.cos(lat1 * np.pi / 180) * \\\n",
    "    np.cos(lat2 * np.pi / 180) * np.sin(dLon / 2) * np.sin(dLon / 2)\n",
    "    c = 2 * np.arctan2(np.sqrt(a), np.sqrt(1 - a))\n",
    "    d = R * c\n",
    "\n",
    "    return d * 1000"
   ]
  },
  {
   "cell_type": "code",
   "execution_count": null,
   "metadata": {},
   "outputs": [],
   "source": [
    "def obtain_gsd_in_meter(geoT):\n",
    "    \"\"\"\n",
    "    #src = gdal.Open(input_file, gdal.GA_ReadOnly)\n",
    "    #geoT = src.GetGeoTransform()\n",
    "    # GeoTransform[0] /* upper left x */\n",
    "    # GeoTransform[1] /* west-east pixel resolution */\n",
    "    # GeoTransform[2] /* 0 */\n",
    "    # GeoTransform[3] /* upper left y */\n",
    "    # GeoTransform[4] /* 0 */\n",
    "    # GeoTransform[5] /* north-south pixel resolution (negative value) */\n",
    "    \n",
    "    Parameters\n",
    "     geoT: tuple\n",
    "     raster geotrasforms\n",
    "    \n",
    "    Returns\n",
    "     ground_resolution_meter: float\n",
    "    \"\"\"    \n",
    "    lat = geoT[3]\n",
    "    lon = geoT[1]\n",
    "    pixelWidth = geoT[1]\n",
    "    pixelHeight = geoT[5]\n",
    "    ground_resolution_meter = round(latlon_to_meters(\n",
    "        lat, lon, lat + pixelWidth, lon), 3)\n",
    "    \n",
    "    return ground_resolution_meter"
   ]
  },
  {
   "cell_type": "code",
   "execution_count": null,
   "metadata": {},
   "outputs": [],
   "source": [
    "def raster_gsd_checker(infile_path):\n",
    "    \"\"\"\n",
    "    raster must be wgs84 lat/lon format\n",
    "    \n",
    "    #src = gdal.Open(input_file, gdal.GA_ReadOnly)\n",
    "    #geoT = src.GetGeoTransform()\n",
    "    # GeoTransform[0] /* upper left x */\n",
    "    # GeoTransform[1] /* west-east pixel resolution */\n",
    "    # GeoTransform[2] /* 0 */\n",
    "    # GeoTransform[3] /* upper left y */\n",
    "    # GeoTransform[4] /* 0 */\n",
    "    # GeoTransform[5] /* north-south pixel resolution (negative value) */\n",
    "    \n",
    "    Parameters\n",
    "     infile_path : string\n",
    "        absolute input file path\n",
    "    \n",
    "    Returns\n",
    "     ground_resolution_meter: float\n",
    "    \"\"\"\n",
    "    geoT = load_band(infile_path)[2]\n",
    "    \n",
    "    lat = geoT[3]\n",
    "    lon = geoT[1]\n",
    "    pixelWidth = geoT[1]\n",
    "    pixelHeight = geoT[5]\n",
    "    ground_resolution_meter = round(latlon_to_meters(\n",
    "        lat, lon, lat + pixelWidth, lon), 3)\n",
    "    \n",
    "    return ground_resolution_meter"
   ]
  },
  {
   "cell_type": "code",
   "execution_count": null,
   "metadata": {},
   "outputs": [],
   "source": [
    "def obtain_utm_zone_from_raster(image_path):\n",
    "    \"\"\"\n",
    "    obtain crs (UTM zone if it is projected) from image file\n",
    "    \n",
    "     infile_path : string\n",
    "        absolute input file path\n",
    "    \n",
    "    Returns\n",
    "     utm zone: integer\n",
    "     \n",
    "    \"\"\"\n",
    "    with rasterio.open(image_path) as src:\n",
    "        epsg = src.meta['crs']['init']\n",
    "        utmzone = epsg.split(':')[1][-2:]\n",
    "    return utmzone"
   ]
  },
  {
   "cell_type": "code",
   "execution_count": null,
   "metadata": {},
   "outputs": [],
   "source": [
    "def convert_latlon_to_utm(utm_zone, coords):\n",
    "    \"\"\"\n",
    "    convert lat/lon to coordinates of specific utm zone\n",
    "    coordinates should be in (lat, lon) format\n",
    "    \n",
    "    utm_zone : string\n",
    "        absolute input file path\n",
    "    \n",
    "    coords : tuple\n",
    "    \n",
    "    Returns\n",
    "     coordinates: tuple\n",
    "     \n",
    "    \"\"\"\n",
    "    #coords = (41.6604518, -89.4559081)\n",
    "    p = Proj(proj='utm', ellps='WGS84', zone = utm_zone, south=False)\n",
    "\n",
    "    return p(coords[1], coords[0])"
   ]
  },
  {
   "cell_type": "code",
   "execution_count": null,
   "metadata": {},
   "outputs": [],
   "source": [
    "def reproject_raster_gdalwarp(infile_path, outfile_path, t_epsg, resolution):\n",
    "    \"\"\"\n",
    "    resample raster to a fine resolution (10m)\n",
    "    \n",
    "    Arguments\n",
    "    \n",
    "    input_shp: string\n",
    "        path to a shapefile\n",
    "    input_raster: string\n",
    "        path to a input raster file\n",
    "    output_raster: \n",
    "    \"\"\"\n",
    "    cmd = \"gdalwarp \" + \\\n",
    "          \"-of GTiff \" + \\\n",
    "          \"-tr \" + resolution + ' ' + resolution + ' ' + \\\n",
    "          \"-s_srs EPSG:4326 \" + \\\n",
    "          \"-t_srs EPSG:\" + t_epsg + ' ' + \\\n",
    "          infile_path + ' ' + \\\n",
    "          outfile_path\n",
    "    subprocess.check_call(cmd, shell=True)"
   ]
  },
  {
   "cell_type": "code",
   "execution_count": null,
   "metadata": {},
   "outputs": [],
   "source": [
    "def resample_raster_gdalwarp(infile_path, outfile_path, resolution):\n",
    "    \"\"\"\n",
    "    resample raster  \n",
    "    \n",
    "    Arguments\n",
    "    \n",
    "    infile_path: string\n",
    "        path to input raster\n",
    "    \n",
    "    outfile_path: string\n",
    "        path to output file\n",
    "    \n",
    "    resolution: string\n",
    "        \n",
    "    \"\"\"\n",
    "    cmd = \"gdalwarp \" + \\\n",
    "          \"-of GTiff \" + \\\n",
    "          \"-tr \" + resolution + ' ' + resolution + ' ' + \\\n",
    "          \"-r bilinear \" + \\\n",
    "          infile_path + ' ' + \\\n",
    "          outfile_path\n",
    "    subprocess.check_call(cmd, shell=True)"
   ]
  },
  {
   "cell_type": "markdown",
   "metadata": {},
   "source": [
    "### define some parameters"
   ]
  },
  {
   "cell_type": "code",
   "execution_count": null,
   "metadata": {},
   "outputs": [],
   "source": [
    "data_dir = '/data'"
   ]
  },
  {
   "cell_type": "code",
   "execution_count": null,
   "metadata": {},
   "outputs": [],
   "source": [
    "infile = os.path.join(data_dir, 's1_sample_wgs84.tif')"
   ]
  },
  {
   "cell_type": "code",
   "execution_count": null,
   "metadata": {},
   "outputs": [],
   "source": [
    "infile"
   ]
  },
  {
   "cell_type": "code",
   "execution_count": null,
   "metadata": {},
   "outputs": [],
   "source": [
    "gsd = raster_gsd_checker(infile)\n",
    "gsd"
   ]
  },
  {
   "cell_type": "code",
   "execution_count": null,
   "metadata": {},
   "outputs": [],
   "source": [
    "lat1 = 40.828\n",
    "lon1 = -97.504\n",
    "lat2 = 41.047\n",
    "lon2 = -97.368"
   ]
  },
  {
   "cell_type": "code",
   "execution_count": null,
   "metadata": {},
   "outputs": [],
   "source": [
    "latlon_to_meters(lat1, lon1, lat2, lon2)"
   ]
  },
  {
   "cell_type": "code",
   "execution_count": null,
   "metadata": {},
   "outputs": [],
   "source": [
    "convert_latlon_to_utm(16, (39.20440, -87.82200))"
   ]
  },
  {
   "cell_type": "code",
   "execution_count": null,
   "metadata": {},
   "outputs": [],
   "source": [
    "infile = os.path.join(data_dir, 'sample_s2.tif')"
   ]
  },
  {
   "cell_type": "code",
   "execution_count": null,
   "metadata": {},
   "outputs": [],
   "source": [
    "outfile = os.path.join(data_dir, 'sample_s2_resample_30.tif')"
   ]
  },
  {
   "cell_type": "code",
   "execution_count": null,
   "metadata": {},
   "outputs": [],
   "source": [
    "reproject_raster_gdalwarp(infile, outfile, '4326', '30')"
   ]
  },
  {
   "cell_type": "code",
   "execution_count": null,
   "metadata": {},
   "outputs": [],
   "source": [
    "outfile = os.path.join(data_dir, 'sample_s2_resample_50.tif')"
   ]
  },
  {
   "cell_type": "code",
   "execution_count": null,
   "metadata": {},
   "outputs": [],
   "source": [
    "resample_raster_gdalwarp(infile, outfile, '50')"
   ]
  },
  {
   "cell_type": "code",
   "execution_count": null,
   "metadata": {},
   "outputs": [],
   "source": []
  },
  {
   "cell_type": "code",
   "execution_count": null,
   "metadata": {},
   "outputs": [],
   "source": []
  }
 ],
 "metadata": {
  "kernelspec": {
   "display_name": "geospatial",
   "language": "python",
   "name": "geospatial"
  },
  "language_info": {
   "codemirror_mode": {
    "name": "ipython",
    "version": 3
   },
   "file_extension": ".py",
   "mimetype": "text/x-python",
   "name": "python",
   "nbconvert_exporter": "python",
   "pygments_lexer": "ipython3",
   "version": "3.7.9"
  }
 },
 "nbformat": 4,
 "nbformat_minor": 4
}
