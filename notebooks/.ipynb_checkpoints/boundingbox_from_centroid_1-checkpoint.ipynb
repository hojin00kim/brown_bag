{
 "cells": [
  {
   "cell_type": "code",
   "execution_count": 8,
   "metadata": {},
   "outputs": [],
   "source": [
    "import math\n",
    "\n",
    "def deg2rad(degrees):\n",
    "    \"\"\"\n",
    "    convert degree lat or lon to radians\n",
    "    \"\"\"\n",
    "    return math.pi*degrees/180.0\n",
    "\n",
    "def rad2deg(radians):\n",
    "    \"\"\"\n",
    "    convert radians to degrees\n",
    "    \"\"\"\n",
    "    return 180.0*radians/math.pi\n",
    "\n",
    "\n",
    "def WGS84EarthRadius(lat):\n",
    "    \"\"\"\n",
    "    Earth radius at a given latitude, according to the WGS-84 ellipsoid [m]\n",
    "    Semi-axes of WGS-84 geoidal reference\n",
    "    http://en.wikipedia.org/wiki/Earth_radius\n",
    "    \"\"\"\n",
    "    WGS84_a = 6378137.0  # Major semiaxis [m]\n",
    "    WGS84_b = 6356752.3  # Minor semiaxis [m]\n",
    "    \n",
    "    An = WGS84_a*WGS84_a * math.cos(lat)\n",
    "    Bn = WGS84_b*WGS84_b * math.sin(lat)\n",
    "    Ad = WGS84_a * math.cos(lat)\n",
    "    Bd = WGS84_b * math.sin(lat)\n",
    "    \n",
    "    return math.sqrt( (An*An + Bn*Bn)/(Ad*Ad + Bd*Bd) )\n",
    "\n",
    "\n",
    "def boundingBox(longitude_in_degrees, latitude_in_degrees, halfside_in_km):\n",
    "    \"\"\"\n",
    "    Obtain bounding box coordinates of the four sides based on center lat/lon with half distance\n",
    "    \n",
    "    Bounding box surrounding the point at given coordinates,\n",
    "    assuming local approximation of Earth surface as a sphere of radius given by WGS84\n",
    "    \n",
    "    Parameters\n",
    "    longitude_in_degrees: float\n",
    "        longitude in float : -90.23\n",
    "    latitude_in_degrees: float\n",
    "        laititude in float : 38.23\n",
    "    halfside_in_km: float\n",
    "\n",
    "    Returns\n",
    "        latMin, latMax, lonMin, lonMax in decimal degree: tuple \n",
    "    \"\"\"\n",
    "    lat = deg2rad(latitude_in_degrees)\n",
    "    lon = deg2rad(longitude_in_degrees)\n",
    "    half_side = 1000*halfside_in_km\n",
    "\n",
    "    # Radius of Earth at given latitude\n",
    "    radius = WGS84EarthRadius(lat)\n",
    "    # Radius of the parallel at given latitude\n",
    "    pradius = radius*math.cos(lat)\n",
    "\n",
    "    latMin = lat - half_side/radius\n",
    "    latMax = lat + half_side/radius\n",
    "    lonMin = lon - half_side/pradius\n",
    "    lonMax = lon + half_side/pradius\n",
    "    \n",
    "    return rad2deg(lonMin), rad2deg(lonMax), rad2deg(latMin), rad2deg(latMax)\n",
    "\n",
    "def bbox_from_point(longitude_in_degrees, latitude_in_degrees, halfside_in_km):\n",
    "    \"\"\"\n",
    "    A sample use case using bbox function.\n",
    "    generate well-known-text (wkt) geometry string of the four sides based on center lat/lon with half distance\n",
    "    \n",
    "    Parameters\n",
    "    longitude_in_degrees: float\n",
    "        longitude in float : -90.23\n",
    "    latitude_in_degrees: float\n",
    "        laititude in float : 38.23\n",
    "    halfside_in_km: float\n",
    "\n",
    "    Returns\n",
    "        polygon geometry: wkt string \n",
    "    \"\"\"\n",
    "    boundingBox(longitude_in_degrees, latitude_in_degrees, halfside_in_km)\n",
    "    \n",
    "    polygon_str =  str(lon_min) + \" \" + str(lat_max) + \", \" + \\\n",
    "        str(lon_max) + \" \" + str(lat_max) + \", \" + \\\n",
    "        str(lon_max) + \" \" + str(lat_min) + \", \" + \\\n",
    "        str(lon_min) + \" \" + str(lat_min) + \", \" + \\\n",
    "        str(lon_min) + \" \" + str(lat_max) \n",
    "    wkt_geometry = \"POLYGON ((\" + polygon_str + \"))\" \n",
    "    \n",
    "    return wkt_geometry"
   ]
  },
  {
   "cell_type": "markdown",
   "metadata": {},
   "source": [
    "#### use case 1: return four side lat and lon "
   ]
  },
  {
   "cell_type": "code",
   "execution_count": 10,
   "metadata": {},
   "outputs": [
    {
     "data": {
      "text/plain": [
       "(-89.49355404158335, -89.48684595841665, 36.44122187922776, 36.44661812077223)"
      ]
     },
     "execution_count": 10,
     "metadata": {},
     "output_type": "execute_result"
    }
   ],
   "source": [
    "lon_min, lon_max, lat_min, lat_max = boundingBox(-89.4902, 36.44392, 0.3)\n",
    "lon_min, lon_max, lat_min, lat_max"
   ]
  },
  {
   "cell_type": "markdown",
   "metadata": {},
   "source": [
    "#### use case 2: return geometry string "
   ]
  },
  {
   "cell_type": "code",
   "execution_count": 11,
   "metadata": {},
   "outputs": [
    {
     "data": {
      "text/plain": [
       "'POLYGON ((-89.49355404158335 36.44661812077223, -89.48684595841665 36.44661812077223, -89.48684595841665 36.44122187922776, -89.49355404158335 36.44122187922776, -89.49355404158335 36.44661812077223))'"
      ]
     },
     "execution_count": 11,
     "metadata": {},
     "output_type": "execute_result"
    }
   ],
   "source": [
    "wkt_geometry = bbox_from_point(-89.4902, 36.44392, 0.3)\n",
    "wkt_geometry"
   ]
  },
  {
   "cell_type": "code",
   "execution_count": null,
   "metadata": {},
   "outputs": [],
   "source": []
  }
 ],
 "metadata": {
  "kernelspec": {
   "display_name": "geospatial",
   "language": "python",
   "name": "geospatial"
  },
  "language_info": {
   "codemirror_mode": {
    "name": "ipython",
    "version": 3
   },
   "file_extension": ".py",
   "mimetype": "text/x-python",
   "name": "python",
   "nbconvert_exporter": "python",
   "pygments_lexer": "ipython3",
   "version": "3.7.7"
  }
 },
 "nbformat": 4,
 "nbformat_minor": 4
}
