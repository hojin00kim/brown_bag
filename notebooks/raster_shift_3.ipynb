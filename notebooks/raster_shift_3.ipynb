{
 "cells": [
  {
   "cell_type": "code",
   "execution_count": 1,
   "metadata": {},
   "outputs": [],
   "source": [
    "\"\"\"\n",
    "This little tool does shift (affine transformation) a raster file in x/y direction\n",
    "with a user defined pixel counts in geographic coordinate systems.\n",
    "\n",
    "Number of pixels in x/y direction need to be provided. \n",
    "\n",
    "Usage: co-registering imagery data that are slightly mis-registered with known pixel count\n",
    "\"\"\"\n",
    "\n",
    "import os\n",
    "import sys\n",
    "\n",
    "import gdal\n",
    "\n",
    "\n",
    "def raster_shift(input_raster, x_pixels, y_pixels):\n",
    "    \"\"\"\n",
    "    read a raster file and number of pixels that user provided\n",
    "    and shift the raster in x/y direction\n",
    "\n",
    "    Parameters\n",
    "        infile: string\n",
    "            a raster file in geotiff format\n",
    "        x_pixels: int or float\n",
    "            nuber of pixels in x (longitude) direction\n",
    "        y_pixels: int or float\n",
    "            nuber of pixels in y (latitude) direction\n",
    "    Returns\n",
    "        None\n",
    "    \"\"\"\n",
    "\n",
    "    ds = gdal.Open(input_raster, gdal.GA_Update)\n",
    "\n",
    "    # get the geotransform as a tuple of 6, below are the information of each parameters\n",
    "    # GeoTransform[0] /* upper left x */\n",
    "    # GeoTransform[1] /* west-east pixel resolution */\n",
    "    # GeoTransform[2] /* 0 */\n",
    "    # GeoTransform[3] /* upper left y */\n",
    "    # GeoTransform[4] /* 0 */\n",
    "    # GeoTransform[5] /* north-south pixel resolution (negative value) */\n",
    "\n",
    "    gt = ds.GetGeoTransform()\n",
    "    # unpack geotransform into variables\n",
    "    x_ul, x_resolution, dx_dy, y_ul, dy_dx, y_resolution = gt\n",
    "\n",
    "    # compute shift of # pixel RIGHT in X direction (+)\n",
    "    shift_x = x_pixels * x_resolution\n",
    "    # compute shift of # pixels UP in Y direction (-2), shift up (-), shift down (+)\n",
    "    shift_y = y_pixels * y_resolution\n",
    "\n",
    "    # make new geotransform\n",
    "    gt_update = (x_ul + shift_x, x_resolution, dx_dy, y_ul + shift_y, dy_dx, y_resolution)\n",
    "\n",
    "    # assign new geotransform to raster\n",
    "    ds.SetGeoTransform(gt_update)\n",
    "\n",
    "    # ensure changes are committed\n",
    "    ds.FlushCache()\n",
    "    ds = None"
   ]
  },
  {
   "cell_type": "code",
   "execution_count": 2,
   "metadata": {},
   "outputs": [],
   "source": [
    "# open dataset with update permission\n",
    "data_dir = '/data'\n",
    "s2_path = os.path.join(data_dir, 'sample_s2_shifted.tif')\n",
    "\n",
    "# pixel number can be an integer or floating point\n",
    "x_pixels = 100\n",
    "y_pixels = 20\n",
    "\n",
    "raster_shift(s2_path, x_pixels, y_pixels)"
   ]
  },
  {
   "cell_type": "code",
   "execution_count": null,
   "metadata": {},
   "outputs": [],
   "source": []
  }
 ],
 "metadata": {
  "anaconda-cloud": {},
  "kernelspec": {
   "display_name": "Python 3",
   "language": "python",
   "name": "python3"
  },
  "language_info": {
   "codemirror_mode": {
    "name": "ipython",
    "version": 3
   },
   "file_extension": ".py",
   "mimetype": "text/x-python",
   "name": "python",
   "nbconvert_exporter": "python",
   "pygments_lexer": "ipython3",
   "version": "3.6.9"
  }
 },
 "nbformat": 4,
 "nbformat_minor": 4
}
